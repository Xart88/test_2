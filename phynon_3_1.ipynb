{
 "cells": [
  {
   "cell_type": "code",
   "execution_count": 12,
   "metadata": {},
   "outputs": [
    {
     "name": "stdout",
     "output_type": "stream",
     "text": [
      "118\n"
     ]
    }
   ],
   "source": [
    "f = open('StudentsPerformance.csv')\n",
    "education_per = 0\n",
    "for line in f:\n",
    "    info = line.split(',')\n",
    "    gender = info[2][1:-1]\n",
    "    if gender == \"bachelor's degree\":\n",
    "        education_per += 1\n",
    "print(education_per)\n",
    "f.close()"
   ]
  },
  {
   "cell_type": "code",
   "execution_count": 24,
   "metadata": {},
   "outputs": [
    {
     "name": "stdout",
     "output_type": "stream",
     "text": [
      "6\n"
     ]
    }
   ],
   "source": [
    "f = open('StudentsPerformance.csv')\n",
    "f.readline() # Пропускаем строку с заголовками\n",
    "level = []\n",
    "for line in f:\n",
    "    info = line.split(',')\n",
    "    education = info[2][1:-1]\n",
    "    if education not in level:\n",
    "        level.append(education)\n",
    "\n",
    "print(len(level))"
   ]
  },
  {
   "cell_type": "code",
   "execution_count": 34,
   "metadata": {},
   "outputs": [
    {
     "name": "stdout",
     "output_type": "stream",
     "text": [
      "1000 645 64.5\n"
     ]
    }
   ],
   "source": [
    "f = open('StudentsPerformance.csv')\n",
    "f.readline()\n",
    "lun = ''\n",
    "i = 0\n",
    "b = 0\n",
    "for line in f:\n",
    "    i +=1\n",
    "    info = line.split(',')\n",
    "    lun = info[3][1:-1]\n",
    "    if lun == 'standard':\n",
    "        b +=1\n",
    "\n",
    "print(i,b, b/i*100)\n",
    "f.close()"
   ]
  },
  {
   "cell_type": "code",
   "execution_count": 35,
   "metadata": {},
   "outputs": [
    {
     "name": "stdout",
     "output_type": "stream",
     "text": [
      "319\n"
     ]
    }
   ],
   "source": [
    "f = open('StudentsPerformance.csv')\n",
    "f.readline()\n",
    "lun = ''\n",
    "i = 0\n",
    "b = 0\n",
    "for line in f:\n",
    "    info = line.split(',')\n",
    "    lun = info[1][1:-1]\n",
    "    if lun == 'group C':\n",
    "        b +=1\n",
    "\n",
    "print(b)\n",
    "f.close()"
   ]
  },
  {
   "cell_type": "code",
   "execution_count": 39,
   "metadata": {},
   "outputs": [
    {
     "name": "stdout",
     "output_type": "stream",
     "text": [
      "5\n"
     ]
    }
   ],
   "source": [
    "f = open('StudentsPerformance.csv')\n",
    "f.readline() # Пропускаем строку с заголовками\n",
    "et_group = []\n",
    "for line in f:\n",
    "    info = line.split(',')\n",
    "    group = info[1][1:-1]\n",
    "    if group not in et_group:\n",
    "        et_group.append(group)\n",
    "\n",
    "print(len(et_group))\n",
    "f.close()"
   ]
  },
  {
   "cell_type": "code",
   "execution_count": 77,
   "metadata": {},
   "outputs": [
    {
     "name": "stdout",
     "output_type": "stream",
     "text": [
      "86.76470588235294\n"
     ]
    }
   ],
   "source": [
    "import re\n",
    "pattern = re.compile('\\d+')\n",
    "\n",
    "exams = []\n",
    "\n",
    "f = open('StudentsPerformance.csv')\n",
    "\n",
    "for line in f:\n",
    "    info = line.split(',')\n",
    "    if info[0] == '\"gender\"':\n",
    "        continue\n",
    "    else:\n",
    "        new_line = []\n",
    "        for item in info:\n",
    "            if pattern.search(item) != None:\n",
    "                new_line.append(int(pattern.search(item)[0]))\n",
    "            else:\n",
    "                new_line.append(item[1:-1])\n",
    "        exams.append(new_line)\n",
    "print (exams)\n",
    "\n",
    "b = 0\n",
    "c = 0\n",
    "for letter in exams:\n",
    "    if letter[7] > 90:\n",
    "        b +=1\n",
    "        if letter[3] == 'standard':\n",
    "            c +=1\n",
    "print (c/b*100)\n",
    "    \n",
    "  \n",
    "\n",
    "    "
   ]
  },
  {
   "cell_type": "code",
   "execution_count": 83,
   "metadata": {},
   "outputs": [
    {
     "name": "stdout",
     "output_type": "stream",
     "text": [
      "{'female': {'standard': 329, 'free/reduced': 189}, 'male': {'free/reduced': 166, 'standard': 316}}\n"
     ]
    }
   ],
   "source": [
    "students = {}\n",
    "\n",
    "f = open('StudentsPerformance.csv')\n",
    "\n",
    "for line in f:\n",
    "    info = line.split(',')\n",
    "    if info[0] == '\"gender\"':\n",
    "        continue\n",
    "    else:\n",
    "        gender = info[0][1:-1]\n",
    "        lanch = info[3][1:-1]\n",
    "        if gender in students:\n",
    "            if lanch in students[gender]:\n",
    "                students[gender][lanch] += 1\n",
    "            else:\n",
    "                students[gender][lanch] = 1\n",
    "        else:\n",
    "            students[gender] = {}\n",
    "            students[gender][lanch] = 1\n",
    "print (students)\n",
    "f.close()\n"
   ]
  },
  {
   "cell_type": "code",
   "execution_count": 82,
   "metadata": {
    "scrolled": true
   },
   "outputs": [
    {
     "name": "stdout",
     "output_type": "stream",
     "text": [
      "{'group B': {\"bachelor's degree\": 20, \"master's degree\": 6, \"associate's degree\": 41, 'some college': 37, 'high school': 48, 'some high school': 38}, 'group C': {'some college': 69, \"associate's degree\": 78, 'some high school': 49, 'high school': 64, \"master's degree\": 19, \"bachelor's degree\": 40}, 'group A': {\"associate's degree\": 14, 'some college': 18, \"master's degree\": 3, 'some high school': 24, \"bachelor's degree\": 12, 'high school': 18}, 'group D': {'high school': 44, \"associate's degree\": 50, 'some college': 67, \"bachelor's degree\": 28, \"master's degree\": 23, 'some high school': 50}, 'group E': {\"master's degree\": 8, 'some college': 35, \"associate's degree\": 39, \"bachelor's degree\": 18, 'some high school': 18, 'high school': 22}}\n"
     ]
    }
   ],
   "source": [
    "print (students)"
   ]
  },
  {
   "cell_type": "code",
   "execution_count": 85,
   "metadata": {},
   "outputs": [
    {
     "name": "stdout",
     "output_type": "stream",
     "text": [
      "{'female': {'none': 334, 'completed': 184}, 'male': {'none': 308, 'completed': 174}}\n"
     ]
    }
   ],
   "source": [
    "students = {}\n",
    "\n",
    "f = open('StudentsPerformance.csv')\n",
    "\n",
    "for line in f:\n",
    "    info = line.split(',')\n",
    "    if info[0] == '\"gender\"':\n",
    "        continue\n",
    "    else:\n",
    "        gender = info[0][1:-1]\n",
    "        test = info[4][1:-1]\n",
    "        if gender in students:\n",
    "            if test in students[gender]:\n",
    "                students[gender][test] += 1\n",
    "            else:\n",
    "                students[gender][test] = 1\n",
    "        else:\n",
    "            students[gender] = {}\n",
    "            students[gender][test] = 1\n",
    "print (students)\n",
    "f.close()"
   ]
  },
  {
   "cell_type": "code",
   "execution_count": 87,
   "metadata": {},
   "outputs": [
    {
     "name": "stdout",
     "output_type": "stream",
     "text": [
      "{'female': {\"bachelor's degree\": 63, 'some college': 118, \"master's degree\": 36, \"associate's degree\": 116, 'high school': 94, 'some high school': 91}, 'male': {\"associate's degree\": 106, 'some college': 108, 'high school': 102, \"master's degree\": 23, \"bachelor's degree\": 55, 'some high school': 88}}\n"
     ]
    }
   ],
   "source": [
    "students = {}\n",
    "\n",
    "f = open('StudentsPerformance.csv')\n",
    "\n",
    "for line in f:\n",
    "    info = line.split(',')\n",
    "    if info[0] == '\"gender\"':\n",
    "        continue\n",
    "    else:\n",
    "        gender = info[0][1:-1]\n",
    "        magistr = info[2][1:-1]\n",
    "        if gender in students:\n",
    "            if magistr in students[gender]:\n",
    "                students[gender][magistr] += 1\n",
    "            else:\n",
    "                students[gender][magistr] = 1\n",
    "        else:\n",
    "            students[gender] = {}\n",
    "            students[gender][magistr] = 1\n",
    "print (students)\n",
    "f.close()"
   ]
  },
  {
   "cell_type": "code",
   "execution_count": 88,
   "metadata": {},
   "outputs": [
    {
     "name": "stdout",
     "output_type": "stream",
     "text": [
      "{'group B': {'none': 122, 'completed': 68}, 'group C': {'completed': 117, 'none': 202}, 'group A': {'none': 58, 'completed': 31}, 'group D': {'completed': 82, 'none': 180}, 'group E': {'none': 80, 'completed': 60}}\n"
     ]
    }
   ],
   "source": [
    "students = {}\n",
    "\n",
    "f = open('StudentsPerformance.csv')\n",
    "\n",
    "for line in f:\n",
    "    info = line.split(',')\n",
    "    if info[0] == '\"gender\"':\n",
    "        continue\n",
    "    else:\n",
    "        group = info[1][1:-1]\n",
    "        test = info[4][1:-1]\n",
    "        if group in students:\n",
    "            if test in students[group]:\n",
    "                students[group][test] += 1\n",
    "            else:\n",
    "                students[group][test] = 1\n",
    "        else:\n",
    "            students[group] = {}\n",
    "            students[group][test] = 1\n",
    "print (students)\n",
    "f.close()"
   ]
  },
  {
   "cell_type": "code",
   "execution_count": 100,
   "metadata": {},
   "outputs": [
    {
     "name": "stdout",
     "output_type": "stream",
     "text": [
      "{'female': {\"bachelor's degree\": 8, 'some high school': 2, 'high school': 1, 'some college': 2, \"associate's degree\": 7, \"master's degree\": 2}, 'male': {\"associate's degree\": 10, 'some college': 9, 'some high school': 3, \"bachelor's degree\": 5, \"master's degree\": 2, 'high school': 1}}\n"
     ]
    }
   ],
   "source": [
    "students = {}\n",
    "\n",
    "f = open('StudentsPerformance.csv')\n",
    "\n",
    "for line in f:\n",
    "    info = line.split(',')\n",
    "    if info[0] == '\"gender\"':\n",
    "        continue\n",
    "    else:\n",
    "        gender = info[0][1:-1]\n",
    "        magistr = info[2][1:-1]\n",
    "        score = int(info[5][1:-1])\n",
    "        if gender in students:\n",
    "            if score > 90:\n",
    "                if magistr in students[gender]:\n",
    "                    students[gender][magistr] += 1\n",
    "                else:\n",
    "                    students[gender][magistr] = 1\n",
    "        else:\n",
    "                students[gender] = {}\n",
    "                students[gender][magistr] = 1\n",
    "print (students)\n",
    "f.close()"
   ]
  },
  {
   "cell_type": "code",
   "execution_count": 101,
   "metadata": {},
   "outputs": [
    {
     "name": "stdout",
     "output_type": "stream",
     "text": [
      "{'female': {'some college': 1}, 'male': {'high school': 1}}\n"
     ]
    }
   ],
   "source": [
    "students = {}\n",
    "\n",
    "f = open('StudentsPerformance.csv')\n",
    "\n",
    "for line in f:\n",
    "    info = line.split(',')\n",
    "    if info[0] == '\"gender\"':\n",
    "        continue\n",
    "    else:\n",
    "        gender = info[0][1:-1]\n",
    "        magistr = info[2][1:-1]\n",
    "        score = int(info[5][1:-1])\n",
    "        if gender in students:\n",
    "            if magistr in students[gender]:\n",
    "                students[gender][magistr] += 1\n",
    "            else:\n",
    "                students[gender][magistr] = 1\n",
    "        else:\n",
    "            students[gender] = {}\n",
    "            students[gender][magistr] = 1\n",
    "print (students)\n",
    "f.close()"
   ]
  },
  {
   "cell_type": "code",
   "execution_count": 113,
   "metadata": {
    "scrolled": true
   },
   "outputs": [
    {
     "name": "stdout",
     "output_type": "stream",
     "text": [
      "['female', 'group B', \"bachelor's degree\", 'standard', 'none', 72, 72, 74]\n",
      "31558\n",
      "31558\n",
      "31558\n",
      "65.473\n"
     ]
    }
   ],
   "source": [
    "import re\n",
    "pattern = re.compile('\\d+')\n",
    "\n",
    "exams = []\n",
    "\n",
    "f = open('StudentsPerformance.csv')\n",
    "\n",
    "for line in f:\n",
    "    info = line.split(',')\n",
    "    if info[0] == '\"gender\"':\n",
    "        continue\n",
    "    else:\n",
    "        new_line = []\n",
    "        for item in info:\n",
    "            if pattern.search(item) != None:\n",
    "                new_line.append(int(pattern.search(item)[0]))\n",
    "            else:\n",
    "                new_line.append(item[1:-1])\n",
    "        exams.append(new_line)\n",
    "print (exams[0])\n",
    "score = 0\n",
    "scores =[]\n",
    "b = 0\n",
    "for item in exams:\n",
    "    if int(item[5]) == 100:\n",
    "        scores.append (item[6])\n",
    "        score += item[6]\n",
    "        b +=1\n",
    "print (score)\n",
    "print(sum(scores))\n",
    "print (sum(scores))\n",
    "mean =  sum(scores)/len(scores)\n",
    "print(\"%.3f\" % mean)\n"
   ]
  },
  {
   "cell_type": "code",
   "execution_count": 119,
   "metadata": {},
   "outputs": [
    {
     "name": "stdout",
     "output_type": "stream",
     "text": [
      "63.02\n"
     ]
    }
   ],
   "source": [
    "read_score = list()\n",
    "f = open('StudentsPerformance.csv')\n",
    "\n",
    "for line in f:\n",
    "    info = line.split(',')\n",
    "    if info[0] == '\"gender\"':\n",
    "        continue\n",
    "    else:\n",
    "        writing = int(info[7][1:-2])\n",
    "        lunch = info[3][1:-1]\n",
    "        \n",
    "        if lunch == 'free/reduced':\n",
    "            read_score.append(writing)\n",
    "            \n",
    "avg_read = sum(read_score) / len(read_score)\n",
    "print(\"%0.2f\" % avg_read)"
   ]
  },
  {
   "cell_type": "code",
   "execution_count": 9,
   "metadata": {},
   "outputs": [
    {
     "ename": "SyntaxError",
     "evalue": "invalid syntax (<ipython-input-9-3617c693eec1>, line 5)",
     "output_type": "error",
     "traceback": [
      "\u001b[1;36m  File \u001b[1;32m\"<ipython-input-9-3617c693eec1>\"\u001b[1;36m, line \u001b[1;32m5\u001b[0m\n\u001b[1;33m    print (result)\u001b[0m\n\u001b[1;37m        ^\u001b[0m\n\u001b[1;31mSyntaxError\u001b[0m\u001b[1;31m:\u001b[0m invalid syntax\n"
     ]
    }
   ],
   "source": [
    "values = [4, 8, 15, 16, 23, 42]\n",
    "mean = 18\n",
    "\n",
    "result = list(map(lambda x: x - mean, values))\n",
    "print (result)"
   ]
  },
  {
   "cell_type": "code",
   "execution_count": 10,
   "metadata": {},
   "outputs": [
    {
     "name": "stdout",
     "output_type": "stream",
     "text": [
      "The Zen of Python, by Tim Peters\n",
      "\n",
      "Beautiful is better than ugly.\n",
      "Explicit is better than implicit.\n",
      "Simple is better than complex.\n",
      "Complex is better than complicated.\n",
      "Flat is better than nested.\n",
      "Sparse is better than dense.\n",
      "Readability counts.\n",
      "Special cases aren't special enough to break the rules.\n",
      "Although practicality beats purity.\n",
      "Errors should never pass silently.\n",
      "Unless explicitly silenced.\n",
      "In the face of ambiguity, refuse the temptation to guess.\n",
      "There should be one-- and preferably only one --obvious way to do it.\n",
      "Although that way may not be obvious at first unless you're Dutch.\n",
      "Now is better than never.\n",
      "Although never is often better than *right* now.\n",
      "If the implementation is hard to explain, it's a bad idea.\n",
      "If the implementation is easy to explain, it may be a good idea.\n",
      "Namespaces are one honking great idea -- let's do more of those!\n"
     ]
    }
   ],
   "source": [
    "import this"
   ]
  },
  {
   "cell_type": "code",
   "execution_count": 11,
   "metadata": {},
   "outputs": [
    {
     "name": "stdout",
     "output_type": "stream",
     "text": [
      "Ivanov, Ivan\n"
     ]
    }
   ],
   "source": [
    "x = 'Ivan Ivanov'\n",
    "y, z = x.split()\n",
    "print(z, y, sep=', ')"
   ]
  },
  {
   "cell_type": "code",
   "execution_count": null,
   "metadata": {},
   "outputs": [],
   "source": []
  }
 ],
 "metadata": {
  "kernelspec": {
   "display_name": "Python 3",
   "language": "python",
   "name": "python3"
  },
  "language_info": {
   "codemirror_mode": {
    "name": "ipython",
    "version": 3
   },
   "file_extension": ".py",
   "mimetype": "text/x-python",
   "name": "python",
   "nbconvert_exporter": "python",
   "pygments_lexer": "ipython3",
   "version": "3.7.6"
  }
 },
 "nbformat": 4,
 "nbformat_minor": 4
}
